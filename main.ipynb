{
 "cells": [
  {
   "cell_type": "code",
   "execution_count": 1,
   "id": "initial_id",
   "metadata": {
    "collapsed": true,
    "ExecuteTime": {
     "end_time": "2024-04-02T13:40:41.682214Z",
     "start_time": "2024-04-02T13:40:36.963863Z"
    }
   },
   "outputs": [
    {
     "name": "stdout",
     "output_type": "stream",
     "text": [
      "True\n",
      "Tesla V100-SXM2-32GB\n",
      "34072559616\n",
      "72\n",
      "36\n"
     ]
    }
   ],
   "source": [
    "import os\n",
    "import torch\n",
    "import pytorch_lightning as L\n",
    "import matplotlib.pyplot as plt\n",
    "from omegaconf import DictConfig\n",
    "\n",
    "%matplotlib inline\n",
    "plt.rcParams['image.interpolation'] = 'nearest'\n",
    "\n",
    "%load_ext autoreload\n",
    "%autoreload 2\n",
    "\n",
    "print(torch.cuda.is_available())\n",
    "print(torch.cuda.get_device_name(0))\n",
    "print(torch.cuda.get_device_properties(0).total_memory)\n",
    "\n",
    "# Get number of cores\n",
    "print(os.cpu_count())\n",
    "\n",
    "# Get number of threads\n",
    "print(torch.get_num_threads())"
   ]
  },
  {
   "cell_type": "code",
   "outputs": [],
   "source": [
    "from model import RoadModel\n",
    "from pytorch_lightning.loggers import WandbLogger\n",
    "\n",
    "from src import RoadDataModule, LogPredictionsCallback, val_checkpoint, regular_checkpoint\n",
    "\n",
    "\n",
    "def main(cfg: DictConfig) -> None:\n",
    "    device = torch.device(\"cuda\" if torch.cuda.is_available() else \"cpu\")\n",
    "    model = RoadModel(cfg, device)\n",
    "    datamodule = RoadDataModule(cfg)\n",
    "\n",
    "    wandb_logger = WandbLogger(project=\"road-segmentation\", name=\"baseline\", log_model='all')\n",
    "\n",
    "    trainer = L.Trainer(max_epochs=5, accelerator=\"gpu\", devices=1, logger=wandb_logger, callbacks=[\n",
    "        LogPredictionsCallback(),\n",
    "        val_checkpoint,\n",
    "        regular_checkpoint\n",
    "    ])\n",
    "    trainer.fit(model, datamodule=datamodule)\n",
    "    # trainer.test(model, datamodule=datamodule)\n",
    "    # trainer.predict(model, datamodule=datamodule)"
   ],
   "metadata": {
    "collapsed": false,
    "ExecuteTime": {
     "end_time": "2024-04-02T13:40:44.901621Z",
     "start_time": "2024-04-02T13:40:41.704915Z"
    }
   },
   "id": "59a15fe8a2f1c603",
   "execution_count": 2
  },
  {
   "cell_type": "code",
   "outputs": [
    {
     "name": "stderr",
     "output_type": "stream",
     "text": [
      "GPU available: True (cuda), used: True\n",
      "TPU available: False, using: 0 TPU cores\n",
      "IPU available: False, using: 0 IPUs\n",
      "HPU available: False, using: 0 HPUs\n",
      "Failed to detect the name of this notebook, you can set it manually with the WANDB_NOTEBOOK_NAME environment variable to enable code saving.\n",
      "\u001B[34m\u001B[1mwandb\u001B[0m: Currently logged in as: \u001B[33maleskucera\u001B[0m. Use \u001B[1m`wandb login --relogin`\u001B[0m to force relogin\n"
     ]
    },
    {
     "data": {
      "text/plain": "<IPython.core.display.HTML object>",
      "text/html": "wandb version 0.16.5 is available!  To upgrade, please run:\n $ pip install wandb --upgrade"
     },
     "metadata": {},
     "output_type": "display_data"
    },
    {
     "data": {
      "text/plain": "<IPython.core.display.HTML object>",
      "text/html": "Tracking run with wandb version 0.15.10"
     },
     "metadata": {},
     "output_type": "display_data"
    },
    {
     "data": {
      "text/plain": "<IPython.core.display.HTML object>",
      "text/html": "Run data is saved locally in <code>./wandb/run-20240402_154054-6g3fkcn6</code>"
     },
     "metadata": {},
     "output_type": "display_data"
    },
    {
     "data": {
      "text/plain": "<IPython.core.display.HTML object>",
      "text/html": "Syncing run <strong><a href='https://wandb.ai/aleskucera/road-segmentation/runs/6g3fkcn6' target=\"_blank\">baseline</a></strong> to <a href='https://wandb.ai/aleskucera/road-segmentation' target=\"_blank\">Weights & Biases</a> (<a href='https://wandb.me/run' target=\"_blank\">docs</a>)<br/>"
     },
     "metadata": {},
     "output_type": "display_data"
    },
    {
     "data": {
      "text/plain": "<IPython.core.display.HTML object>",
      "text/html": " View project at <a href='https://wandb.ai/aleskucera/road-segmentation' target=\"_blank\">https://wandb.ai/aleskucera/road-segmentation</a>"
     },
     "metadata": {},
     "output_type": "display_data"
    },
    {
     "data": {
      "text/plain": "<IPython.core.display.HTML object>",
      "text/html": " View run at <a href='https://wandb.ai/aleskucera/road-segmentation/runs/6g3fkcn6' target=\"_blank\">https://wandb.ai/aleskucera/road-segmentation/runs/6g3fkcn6</a>"
     },
     "metadata": {},
     "output_type": "display_data"
    },
    {
     "name": "stderr",
     "output_type": "stream",
     "text": [
      "LOCAL_RANK: 0 - CUDA_VISIBLE_DEVICES: [0]\n",
      "\n",
      "  | Name      | Type                   | Params\n",
      "-----------------------------------------------------\n",
      "0 | model     | DeepLabV3              | 39.6 M\n",
      "1 | criterion | CrossEntropyLoss       | 0     \n",
      "2 | accuracy  | MulticlassAccuracy     | 0     \n",
      "3 | jaccard   | MulticlassJaccardIndex | 0     \n",
      "-----------------------------------------------------\n",
      "39.6 M    Trainable params\n",
      "0         Non-trainable params\n",
      "39.6 M    Total params\n",
      "158.538   Total estimated model params size (MB)\n",
      "SLURM auto-requeueing enabled. Setting signal handlers.\n"
     ]
    },
    {
     "data": {
      "text/plain": "Sanity Checking: |          | 0/? [00:00<?, ?it/s]",
      "application/vnd.jupyter.widget-view+json": {
       "version_major": 2,
       "version_minor": 0,
       "model_id": "3c620d8df35244579d7dd7a67dbdbb3c"
      },
      "application/json": {
       "n": 0,
       "total": null,
       "elapsed": 0.03687262535095215,
       "ncols": null,
       "nrows": null,
       "prefix": "Sanity Checking",
       "ascii": false,
       "unit": "it",
       "unit_scale": false,
       "rate": null,
       "bar_format": "{l_bar}{bar}| {n_fmt}/{total_fmt} [{elapsed}<{remaining}, {rate_noinv_fmt}{postfix}]",
       "postfix": null,
       "unit_divisor": 1000,
       "initial": 0,
       "colour": null
      }
     },
     "metadata": {},
     "output_type": "display_data"
    },
    {
     "data": {
      "text/plain": "Training: |          | 0/? [00:00<?, ?it/s]",
      "application/vnd.jupyter.widget-view+json": {
       "version_major": 2,
       "version_minor": 0,
       "model_id": "c0271984936341fd9bc91d9d0f91d5e5"
      },
      "application/json": {
       "n": 0,
       "total": null,
       "elapsed": 0.15860795974731445,
       "ncols": null,
       "nrows": null,
       "prefix": "Training",
       "ascii": false,
       "unit": "it",
       "unit_scale": false,
       "rate": null,
       "bar_format": "{l_bar}{bar}| {n_fmt}/{total_fmt} [{elapsed}<{remaining}, {rate_noinv_fmt}{postfix}]",
       "postfix": null,
       "unit_divisor": 1000,
       "initial": 0,
       "colour": null
      }
     },
     "metadata": {},
     "output_type": "display_data"
    },
    {
     "name": "stderr",
     "output_type": "stream",
     "text": [
      "/mnt/appl/software/PyTorch-Lightning/2.1.0-foss-2022a-CUDA-11.7.0/lib/python3.10/site-packages/pytorch_lightning/trainer/call.py:54: Detected KeyboardInterrupt, attempting graceful shutdown...\n"
     ]
    }
   ],
   "source": [
    "from hydra import compose, initialize\n",
    "\n",
    "with initialize(version_base=None, config_path=\"conf\"):\n",
    "    config = compose(config_name=\"config\")\n",
    "    main(config)"
   ],
   "metadata": {
    "collapsed": false,
    "ExecuteTime": {
     "start_time": "2024-04-02T13:40:44.903204Z"
    }
   },
   "id": "a1e7f9f60038cca3",
   "execution_count": null
  },
  {
   "cell_type": "code",
   "outputs": [],
   "source": [
    " "
   ],
   "metadata": {
    "collapsed": false
   },
   "id": "53669759794a124f",
   "execution_count": null
  }
 ],
 "metadata": {
  "kernelspec": {
   "display_name": "Python 3",
   "language": "python",
   "name": "python3"
  },
  "language_info": {
   "codemirror_mode": {
    "name": "ipython",
    "version": 2
   },
   "file_extension": ".py",
   "mimetype": "text/x-python",
   "name": "python",
   "nbconvert_exporter": "python",
   "pygments_lexer": "ipython2",
   "version": "2.7.6"
  }
 },
 "nbformat": 4,
 "nbformat_minor": 5
}
